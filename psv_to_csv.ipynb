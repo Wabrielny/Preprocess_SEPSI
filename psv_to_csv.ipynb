{
 "cells": [
  {
   "cell_type": "code",
   "execution_count": 1,
   "metadata": {},
   "outputs": [],
   "source": [
    "import glob\n",
    "import pandas as pd\n",
    "import numpy as np\n",
    "import os"
   ]
  },
  {
   "cell_type": "code",
   "execution_count": 2,
   "metadata": {},
   "outputs": [],
   "source": [
    "output_dir = './training/processed'\n",
    "if not os.path.exists(output_dir):\n",
    "    os.makedirs(output_dir)"
   ]
  },
  {
   "cell_type": "code",
   "execution_count": 3,
   "metadata": {},
   "outputs": [],
   "source": [
    "# 找到所有的.psv文件\n",
    "files1 = glob.glob('training/training_setA/*.psv')\n",
    "files2 = glob.glob('training/training_setB/*.psv')\n",
    "files = np.concatenate((files1, files2))"
   ]
  },
  {
   "cell_type": "code",
   "execution_count": 4,
   "metadata": {},
   "outputs": [],
   "source": [
    "# 定义列名\n",
    "column_names = [\n",
    "    \"HR\", \"O2Sat\", \"Temp\", \"SBP\", \"MAP\", \"DBP\", \"Resp\", \"EtCO2\",\n",
    "    \"BaseExcess\", \"HCO3\", \"FiO2\", \"pH\", \"PaCO2\", \"SaO2\", \"AST\", \"BUN\", \"Alkalinephos\", \"Calcium\", \"Chloride\", \n",
    "    \"Creatinine\", \"Bilirubin_direct\", \"Glucose\", \"Lactate\", \"Magnesium\", \"Phosphate\", \"Potassium\", \"Bilirubin_total\",\n",
    "    \"TroponinI\", \"Hct\", \"Hgb\", \"PTT\", \"WBC\", \"Fibrinogen\", \"Platelets\",\n",
    "    \"Age\", \"Gender\", \"Unit1\", \"Unit2\", \"HospAdmTime\", \"ICULOS\",\n",
    "    \"SepsisLabel\"\n",
    "]\n"
   ]
  },
  {
   "cell_type": "code",
   "execution_count": 5,
   "metadata": {},
   "outputs": [
    {
     "name": "stdout",
     "output_type": "stream",
     "text": [
      "Processed 0 files.\n",
      "Processed 1000 files.\n",
      "Processed 2000 files.\n",
      "Processed 3000 files.\n",
      "Processed 4000 files.\n",
      "Processed 5000 files.\n",
      "Processed 6000 files.\n",
      "Processed 7000 files.\n",
      "Processed 8000 files.\n",
      "Processed 9000 files.\n",
      "Processed 10000 files.\n",
      "Processed 11000 files.\n",
      "Processed 12000 files.\n",
      "Processed 13000 files.\n",
      "Processed 14000 files.\n",
      "Processed 15000 files.\n",
      "Processed 16000 files.\n",
      "Processed 17000 files.\n",
      "Processed 18000 files.\n",
      "Processed 19000 files.\n",
      "Processed 20000 files.\n",
      "Processed 21000 files.\n",
      "Processed 22000 files.\n",
      "Processed 23000 files.\n",
      "Processed 24000 files.\n",
      "Processed 25000 files.\n",
      "Processed 26000 files.\n",
      "Processed 27000 files.\n",
      "Processed 28000 files.\n",
      "Processed 29000 files.\n",
      "Processed 30000 files.\n",
      "Processed 31000 files.\n",
      "Processed 32000 files.\n",
      "Processed 33000 files.\n",
      "Processed 34000 files.\n",
      "Processed 35000 files.\n",
      "Processed 36000 files.\n",
      "Processed 37000 files.\n",
      "Processed 38000 files.\n",
      "Processed 39000 files.\n",
      "Processed 40000 files.\n"
     ]
    }
   ],
   "source": [
    "# 遍历每个文件，并为每个文件单独保存一个CSV文件\n",
    "for ind, f in enumerate(files):\n",
    "    df = pd.read_csv(f, sep='|')\n",
    "    \n",
    "    # 确保所有必要的列都存在，否则添加缺失的列\n",
    "    for col in column_names:\n",
    "        if col not in df.columns:\n",
    "            df[col] = np.nan  # 使用适当的默认值填充，这里使用NaN\n",
    "\n",
    "    # 将数据按照新的列顺序重新排列\n",
    "    df = df[column_names]\n",
    "\n",
    "    # 保存到单独的CSV文件\n",
    "    csv_filename = os.path.join(output_dir, f\"{ind + 1}.csv\") # 生成文件名，例如 1.csv, 2.csv 等\n",
    "    df.to_csv(csv_filename, index=False)\n",
    "\n",
    "    # 打印状态更新\n",
    "    if ind % 1000 == 0:\n",
    "        print(f\"Processed {ind} files.\")"
   ]
  }
 ],
 "metadata": {
  "kernelspec": {
   "display_name": "pytorch",
   "language": "python",
   "name": "python3"
  },
  "language_info": {
   "codemirror_mode": {
    "name": "ipython",
    "version": 3
   },
   "file_extension": ".py",
   "mimetype": "text/x-python",
   "name": "python",
   "nbconvert_exporter": "python",
   "pygments_lexer": "ipython3",
   "version": "3.9.19"
  }
 },
 "nbformat": 4,
 "nbformat_minor": 2
}
