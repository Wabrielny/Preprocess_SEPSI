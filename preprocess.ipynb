{
 "cells": [
  {
   "cell_type": "code",
   "execution_count": 1,
   "metadata": {},
   "outputs": [],
   "source": [
    "import glob\n",
    "import pandas as pd\n",
    "import numpy as np"
   ]
  },
  {
   "cell_type": "code",
   "execution_count": 3,
   "metadata": {},
   "outputs": [],
   "source": [
    "files = glob.glob('p000001.psv')"
   ]
  },
  {
   "cell_type": "code",
   "execution_count": 4,
   "metadata": {},
   "outputs": [],
   "source": [
    "column_names = [\n",
    "    \"HR\", \"O2Sat\", \"Temp\", \"SBP\", \"MAP\", \"DBP\", \"Resp\", \"EtCO2\",\n",
    "    \"BaseExcess\", \"HCO3\", \"FiO2\", \"pH\", \"PaCO2\", \"SaO2\", \"AST\", \"BUN\", \"Alkalinephos\", \"Calcium\", \"Chloride\", \n",
    "    \"Creatinine\", \"Bilirubin_direct\", \"Glucose\", \"Lactate\", \"Magnesium\", \"Phosphate\", \"Potassium\", \"Bilirubin_total\",\n",
    "    \"TroponinI\", \"Hct\", \"Hgb\", \"PTT\", \"WBC\", \"Fibrinogen\", \"Platelets\",\n",
    "    \"Age\", \"Gender\", \"Unit1\", \"Unit2\", \"HospAdmTime\", \"ICULOS\",\n",
    "    \"SepsisLabel\"\n",
    "]"
   ]
  },
  {
   "cell_type": "code",
   "execution_count": 5,
   "metadata": {},
   "outputs": [],
   "source": [
    "df_list = []"
   ]
  },
  {
   "cell_type": "code",
   "execution_count": 6,
   "metadata": {},
   "outputs": [],
   "source": [
    "for ind, f in enumerate(files):\n",
    "    df = pd.read_csv(f, sep='|')\n",
    "    \n",
    "    # 确保所有必要的列都存在，否则添加缺失的列\n",
    "    for col in column_names:\n",
    "        if col not in df.columns:\n",
    "            df[col] = np.nan  # 使用适当的默认值填充，这里使用NaN\n",
    "\n",
    "    # 将数据按照新的列顺序重新排列\n",
    "    df = df[column_names]\n",
    "\n",
    "    # 可以在这里添加其他数据处理步骤\n",
    "    df_list.append(df)"
   ]
  },
  {
   "cell_type": "code",
   "execution_count": 7,
   "metadata": {},
   "outputs": [],
   "source": [
    "combined_df = pd.concat(df_list, ignore_index=True)"
   ]
  },
  {
   "cell_type": "code",
   "execution_count": 8,
   "metadata": {},
   "outputs": [],
   "source": [
    "combined_df.to_csv('combined.csv', index=False)"
   ]
  }
 ],
 "metadata": {
  "kernelspec": {
   "display_name": "pytorch",
   "language": "python",
   "name": "python3"
  },
  "language_info": {
   "codemirror_mode": {
    "name": "ipython",
    "version": 3
   },
   "file_extension": ".py",
   "mimetype": "text/x-python",
   "name": "python",
   "nbconvert_exporter": "python",
   "pygments_lexer": "ipython3",
   "version": "3.9.19"
  }
 },
 "nbformat": 4,
 "nbformat_minor": 2
}
